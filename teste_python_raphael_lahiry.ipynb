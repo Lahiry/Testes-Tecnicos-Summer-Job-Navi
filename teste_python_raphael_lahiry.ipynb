{
 "cells": [
  {
   "cell_type": "markdown",
   "metadata": {},
   "source": [
    "# Navi Capital"
   ]
  },
  {
   "cell_type": "markdown",
   "metadata": {},
   "source": [
    "# Teste de Python"
   ]
  },
  {
   "cell_type": "markdown",
   "metadata": {},
   "source": [
    "## Nome: Raphael Lahiry de Barros"
   ]
  },
  {
   "cell_type": "markdown",
   "metadata": {},
   "source": [
    "### Importando bibliotecas nescessárias"
   ]
  },
  {
   "cell_type": "code",
   "execution_count": 1,
   "metadata": {},
   "outputs": [],
   "source": [
    "import numpy as np\n",
    "from math import *"
   ]
  },
  {
   "cell_type": "markdown",
   "metadata": {},
   "source": [
    "# 1."
   ]
  },
  {
   "cell_type": "code",
   "execution_count": 3,
   "metadata": {},
   "outputs": [
    {
     "name": "stdout",
     "output_type": "stream",
     "text": [
      "Existem 1378 números pares, múltiplos de 49 e 37 simultâneamente, no intervalo de 1 a 5.000.000\n"
     ]
    }
   ],
   "source": [
    "n = 0\n",
    "for i in range(1, 5000001):\n",
    "    if i % 2 == 0 and i % 49 == 0 and i % 37 == 0:\n",
    "        n += 1\n",
    "        \n",
    "print(f'Existem {n} números pares, múltiplos de 49 e 37 simultâneamente, no intervalo de 1 a 5.000.000')"
   ]
  },
  {
   "cell_type": "markdown",
   "metadata": {},
   "source": [
    "# 2."
   ]
  },
  {
   "cell_type": "code",
   "execution_count": 5,
   "metadata": {},
   "outputs": [
    {
     "name": "stdout",
     "output_type": "stream",
     "text": [
      "O maior elemento desse vetor se encontra na 8ª posição\n",
      "A média dos elementos contidos nesse vetor é 29555.94\n"
     ]
    }
   ],
   "source": [
    "vec = []\n",
    "for i in range(10):\n",
    "    if i % 2 == 0:\n",
    "        vec.append((3**i) + 7 * (factorial(i)))\n",
    "    else:\n",
    "        vec.append((2**i) + 4 * (log(i)))\n",
    "\n",
    "max_value = max(vec)\n",
    "max_posicao = vec.index(max_value)\n",
    "\n",
    "media_elementos = np.mean(vec).round(2)\n",
    "\n",
    "print(f'O maior elemento desse vetor se encontra na {max_posicao}ª posição')\n",
    "print(f'A média dos elementos contidos nesse vetor é {media_elementos}')"
   ]
  },
  {
   "cell_type": "markdown",
   "metadata": {},
   "source": [
    "# 3."
   ]
  },
  {
   "cell_type": "code",
   "execution_count": null,
   "metadata": {},
   "outputs": [],
   "source": [
    "dict_notas = {}\n",
    "\n",
    "for i in range(5):\n",
    "    aluno = input('Escreva o nome do aluno: ')\n",
    "    nota = float(input('Escreva a nota do aluno: '))\n",
    "    \n",
    "    dict_notas[aluno] = nota\n",
    "\n",
    "melhor_aluno = max(dict_notas, key=dict_notas.get)\n",
    "melhor_nota = dict_notas[melhor_aluno]\n",
    "\n",
    "print(f'O melhor aluno é o {melhor_aluno} e sua nota foi {melhor_nota}')"
   ]
  }
 ],
 "metadata": {
  "kernelspec": {
   "display_name": "Python 3",
   "language": "python",
   "name": "python3"
  },
  "language_info": {
   "codemirror_mode": {
    "name": "ipython",
    "version": 3
   },
   "file_extension": ".py",
   "mimetype": "text/x-python",
   "name": "python",
   "nbconvert_exporter": "python",
   "pygments_lexer": "ipython3",
   "version": "3.7.6"
  }
 },
 "nbformat": 4,
 "nbformat_minor": 4
}
